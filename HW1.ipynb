{
 "cells": [
  {
   "cell_type": "markdown",
   "metadata": {},
   "source": [
    "\n"
   ]
  },
  {
   "cell_type": "markdown",
   "metadata": {
    "collapsed": true
   },
   "source": [
    "# MATH 6270/MAE 7760 Problem Set 1 Interactive Code\n",
    "This Jupyter Notebook takes Python code and generates plots and animations of the stable and unstable manifolds of the using the mapping (3.7.1)\n",
    "$$ x_{n+1} = x_n + y_n + kx_n\\left(x_n-1\\right) $$\n",
    "$$ y_{n+1} = y_n + kx_n\\left(x_n-1\\right) $$\n",
    "and the inverse mapping (3.7.4)\n",
    "$$ x_n = x_{n+1} - y_{n+1} $$\n",
    "$$ y_n = y_{n+1} - kx_n\\left(x_n-1\\right) $$\n",
    "from Arrowsmith and Place.\n",
    "The plots are generated using 15 iterations of this mapping. These plots rely on the restriction that $ k > 0 $. The homoclinic tangle can be seen visually for values $ k \\gtrsim 1.2 $."
   ]
  },
  {
   "cell_type": "markdown",
   "metadata": {},
   "source": [
    "## Python Setup\n",
    "This portion of the Notebook contains all of the various package imports and function definitions to do the interesting part of the code. Feel free to skip to the Demo section."
   ]
  },
  {
   "cell_type": "code",
   "execution_count": 18,
   "metadata": {
    "collapsed": true
   },
   "outputs": [],
   "source": [
    "import numpy as np\n",
    "import matplotlib.pyplot as plt\n",
    "import matplotlib.animation as an\n",
    "from matplotlib import rc\n",
    "from IPython.display import HTML\n",
    "\n",
    "def mapping(x,y,n=15,k=1.5):\n",
    "    '''This function returns successive mappings of (3.7.1) for coordinates x\n",
    "    and y as arrays.\n",
    "    \n",
    "    Args:\n",
    "        x (float or ndarray): initial point(s) in x (same shape as y)\n",
    "        y (float or ndarray): initial point(s) in y (same shape as x)\n",
    "        n (int): number of iterations of map\n",
    "        k (float): parameter in the map\n",
    "        \n",
    "    Returns:\n",
    "        xns (ndarray): each iteration of map in x as rows\n",
    "        yns (ndarray): each iteration of map in y as rows\n",
    "    \n",
    "    '''\n",
    "    \n",
    "    if not isinstance(x,np.ndarray):\n",
    "        x = np.array(x,copy=False,ndmin=1)\n",
    "    if not isinstance(y,np.ndarray):\n",
    "        y = np.array(y,copy=False,ndmin=1)\n",
    "    \n",
    "    # make sure x and y are same shape\n",
    "    assert x.shape == y.shape, 'initial x and y must have same shape'\n",
    "    \n",
    "    # perform iterations of mapping\n",
    "    xn = x[:]\n",
    "    yn = y[:]\n",
    "    xns = xn[:]\n",
    "    yns = yn[:]\n",
    "    for i in xrange(n):\n",
    "        yn1 = yn + k*xn*(xn-1.)\n",
    "        xn1 = xn + yn1\n",
    "        xns = np.vstack((xns,xn1))\n",
    "        yns = np.vstack((yns,yn1))\n",
    "        yn = yn1[:]\n",
    "        xn = xn1[:]\n",
    "    \n",
    "    return xns, yns\n",
    "\n",
    "def invmapping(x,y,n=15,k=1.5):\n",
    "    '''This function returns successive mappings of (3.7.4) (inverse map of\n",
    "    (3.7.1)) for coordinates x and y as arrays.\n",
    "    \n",
    "    Args:\n",
    "        x (float or ndarray): initial point(s) in x (same shape as y)\n",
    "        y (float or ndarray): initial point(s) in y (same shape as x)\n",
    "        n (int): number of iterations of map\n",
    "        k (float): parameter in the map\n",
    "        \n",
    "    Returns:\n",
    "        xns (ndarray): each iteration of map in x as rows\n",
    "        yns (ndarray): each iteration of map in y as rows\n",
    "    \n",
    "    '''\n",
    "    if not isinstance(x,np.ndarray):\n",
    "        x = np.array(x,copy=False,ndmin=1)\n",
    "    if not isinstance(y,np.ndarray):\n",
    "        y = np.array(y,copy=False,ndmin=1)\n",
    "    \n",
    "    # make sure x and y are same shape\n",
    "    assert x.shape == y.shape, 'initial x and y must have same shape'\n",
    "    \n",
    "    xn1 = x[:]\n",
    "    yn1 = y[:]\n",
    "    xns = xn1[:]\n",
    "    yns = yn1[:]\n",
    "    for i in xrange(n):\n",
    "        xn = xn1 - yn1\n",
    "        yn = yn1 - k*xn*(xn-1.)\n",
    "        xns = np.vstack((xns,xn))\n",
    "        yns = np.vstack((yns,yn))\n",
    "        xn1 = xn[:]\n",
    "        yn1 = yn[:]\n",
    "    \n",
    "    return xns, yns\n",
    "\n",
    "def gen_stable_unstable_values(k,n):\n",
    "    '''Generates (xn,yn)  by creating 100 points on an interval of length \n",
    "    0.0001 near the saddle point (1,0) and iterates for stable and unstable \n",
    "    manifolds for the mapping (3.7.1) and inverse mapping (3.7.4)\n",
    "    \n",
    "    Args:\n",
    "        k (float): value of k parameter\n",
    "        n (int): number of iterations to perform\n",
    "    \n",
    "    Returns:\n",
    "        xu (ndarray): array of xn iterates for unstable manifold, t>0\n",
    "        yu (ndarray): array of yn iterates for unstable manifold, t>0\n",
    "        xs (ndarray): array of xn iterates for stable manifold, t<0\n",
    "        ys (ndarray): array of yn iterates for stable manifold, t<0\n",
    "    \n",
    "    '''\n",
    "    l = np.linspace(0.,0.0001/2.,50)\n",
    "    # unstable manifold points\n",
    "    cu = (-k+np.sqrt(k*(k+4.)))/2.\n",
    "    uu = l/np.sqrt(cu**1+1.)\n",
    "    vu = cu*uu\n",
    "    x0u = np.hstack(((1.+uu),(1.-uu)))\n",
    "    y0u = np.hstack((vu,-vu))\n",
    "    ns = 15\n",
    "    xu,yu = mapping(x0u,y0u,n=ns,k=k)\n",
    "    # stable manifold points\n",
    "    cs = (-k-np.sqrt(k*(k+4.)))/2.\n",
    "    us = l/np.sqrt(cs**2+1.)\n",
    "    vs = cs*us\n",
    "    x0s = np.hstack((1.+us,1.-us))\n",
    "    y0s = np.hstack((vs,-vs))\n",
    "    xs,ys = invmapping(x0s,y0s,n=ns,k=k)\n",
    "    \n",
    "    return xu, yu, xs, ys\n",
    "\n",
    "def kplot(k,n):\n",
    "    '''Takes value for k and generates a plot of the stable and unstable\n",
    "    manifolds for the mapping (3.7.1) and inverse mapping (3.7.4)\n",
    "    \n",
    "    Args:\n",
    "        k (float): value of k parameter\n",
    "        n (int): number of iterations to perform\n",
    "    \n",
    "    Returns:\n",
    "        fig: matplotlib.pyplot figure object\n",
    "        \n",
    "    '''\n",
    "    xu, yu, xs, ys = gen_stable_unstable_values(k,n)\n",
    "    \n",
    "    fig, ax = plt.subplots()\n",
    "    ax.plot(xu,yu,'rx',label=r'Unstable Manifold')\n",
    "    ax.plot(xs,ys,'b.',label=r'Stable Manifold')\n",
    "    ax.legend(fontsize=14)\n",
    "    ax.set_ylim(ymin=-2.,ymax=2.)\n",
    "    ax.set_xlim(xmin=-1.,xmax=3.)\n",
    "    ax.set_xlabel(r'x',fontsize=14)\n",
    "    ax.set_ylabel(r'y',fontsize=14)\n",
    "    ax.set_title(r'Homoclinic Tangle k = {}'.format(k),fontsize=16)\n",
    "    \n",
    "    return fig\n",
    "\n",
    "def gen_animation(k,n):\n",
    "    '''Takes value for k and generates an animation of the stable and unstable\n",
    "    manifolds for the mapping (3.7.1) and inverse mapping (3.7.4) for t>0\n",
    "    \n",
    "    Args:\n",
    "        k (float): value of k parameter\n",
    "    \n",
    "    Returns:\n",
    "        anim: matplotlib.animation.FuncAnimation object\n",
    "    \n",
    "    '''\n",
    "    xu, yu, xs, ys = gen_stable_unstable_values(k,n)\n",
    "    fig = plt.figure()\n",
    "    ax = fig.add_subplot(111,xlim=(-1.,3.),ylim=(-2.,2.))\n",
    "    upoints, = ax.plot([],[],'rx',label=r'Unstable Manifold')\n",
    "    spoints, = ax.plot([],[],'b.',label=r'Stable Manifold')\n",
    "    ax.legend(fontsize=14)\n",
    "    ax.set_title(r'Homoclinic Tangle k = {}, t > 0'.format(k),fontsize=16)\n",
    "    ax.set_xlabel(r'x',fontsize=14)\n",
    "    ax.set_ylabel(r'y',fontsize=14)\n",
    "    iter_text = ax.text(0.02, 0.90, '', transform=ax.transAxes,fontsize=14)\n",
    "    def init():\n",
    "        upoints.set_data([],[])\n",
    "        spoints.set_data([],[])\n",
    "        iter_text.set_text('')\n",
    "        return upoints, spoints, iter_text\n",
    "    \n",
    "    def animate(i):\n",
    "        upoints.set_data(xu[i,:],yu[i,:])\n",
    "        spoints.set_data(xs[-1-i,:],ys[-1-i,:])\n",
    "        iter_text.set_text('Iteration: {}'.format(i))\n",
    "        return upoints, spoints, iter_text\n",
    "    \n",
    "    anim = an.FuncAnimation(fig,animate,init_func=init,frames=n+1,interval=500,blit=True)\n",
    "    HTML(anim.to_html5_video())\n",
    "    return anim\n",
    "\n",
    "#rc('animation', html='html5')"
   ]
  },
  {
   "cell_type": "markdown",
   "metadata": {},
   "source": [
    "## `kplot` Demo\n",
    "The function `kplot` takes in a value for the $ k $ parameter and number of desired iterations. It generates 100 points on an interval of length 0.0001 on the stable and unstable manifolds. The function does the desired number of iterations of the map and plots the stable and unstable manifolds. For example, let $ k=1.5 $ with 15 iterations."
   ]
  },
  {
   "cell_type": "code",
   "execution_count": 19,
   "metadata": {},
   "outputs": [
    {
     "data": {
      "image/png": "[encoded data removed]",
      "text/plain": [
       "<matplotlib.figure.Figure at 0xea507f0>"
      ]
     },
     "execution_count": 19,
     "metadata": {},
     "output_type": "execute_result"
    }
   ],
   "source": [
    "kplot(1.5,15)"
   ]
  },
  {
   "cell_type": "markdown",
   "metadata": {},
   "source": [
    "## `gen_animation` Demo\n",
    "The function `gen_animation` takes in a value (or list of values) for the $ k $ parameter and desired number of iterations of the mapping. It generates 100 points on an interval of length 0.0001 on the stable and unstable manifolds. It then generates an animation of the successive mappings forward in time. For example, let $ k = 1.5 $ with 15 iterations."
   ]
  },
  {
   "cell_type": "code",
   "execution_count": 20,
   "metadata": {},
   "outputs": [
    {
     "ename": "KeyError",
     "evalue": "u'ffmpeg'",
     "output_type": "error",
     "traceback": [
      "\u001b[1;31m---------------------------------------------------------------------------\u001b[0m",
      "\u001b[1;31mKeyError\u001b[0m                                  Traceback (most recent call last)",
      "\u001b[1;32m<ipython-input-20-7c37f060ccb0>\u001b[0m in \u001b[0;36m<module>\u001b[1;34m()\u001b[0m\n\u001b[1;32m----> 1\u001b[1;33m \u001b[0mgen_animation\u001b[0m\u001b[1;33m(\u001b[0m\u001b[1;36m1.5\u001b[0m\u001b[1;33m,\u001b[0m\u001b[1;36m15\u001b[0m\u001b[1;33m)\u001b[0m\u001b[1;33m\u001b[0m\u001b[0m\n\u001b[0m",
      "\u001b[1;32m<ipython-input-18-cd254a5fd88c>\u001b[0m in \u001b[0;36mgen_animation\u001b[1;34m(k, n)\u001b[0m\n\u001b[0;32m    176\u001b[0m \u001b[1;33m\u001b[0m\u001b[0m\n\u001b[0;32m    177\u001b[0m     \u001b[0manim\u001b[0m \u001b[1;33m=\u001b[0m \u001b[0man\u001b[0m\u001b[1;33m.\u001b[0m\u001b[0mFuncAnimation\u001b[0m\u001b[1;33m(\u001b[0m\u001b[0mfig\u001b[0m\u001b[1;33m,\u001b[0m\u001b[0manimate\u001b[0m\u001b[1;33m,\u001b[0m\u001b[0minit_func\u001b[0m\u001b[1;33m=\u001b[0m\u001b[0minit\u001b[0m\u001b[1;33m,\u001b[0m\u001b[0mframes\u001b[0m\u001b[1;33m=\u001b[0m\u001b[0mn\u001b[0m\u001b[1;33m+\u001b[0m\u001b[1;36m1\u001b[0m\u001b[1;33m,\u001b[0m\u001b[0minterval\u001b[0m\u001b[1;33m=\u001b[0m\u001b[1;36m500\u001b[0m\u001b[1;33m,\u001b[0m\u001b[0mblit\u001b[0m\u001b[1;33m=\u001b[0m\u001b[0mTrue\u001b[0m\u001b[1;33m)\u001b[0m\u001b[1;33m\u001b[0m\u001b[0m\n\u001b[1;32m--> 178\u001b[1;33m     \u001b[0mHTML\u001b[0m\u001b[1;33m(\u001b[0m\u001b[0manim\u001b[0m\u001b[1;33m.\u001b[0m\u001b[0mto_html5_video\u001b[0m\u001b[1;33m(\u001b[0m\u001b[1;33m)\u001b[0m\u001b[1;33m)\u001b[0m\u001b[1;33m\u001b[0m\u001b[0m\n\u001b[0m\u001b[0;32m    179\u001b[0m     \u001b[1;32mreturn\u001b[0m \u001b[0manim\u001b[0m\u001b[1;33m\u001b[0m\u001b[0m\n\u001b[0;32m    180\u001b[0m \u001b[1;33m\u001b[0m\u001b[0m\n",
      "\u001b[1;32mC:\\Users\\Daniel\\Anaconda2\\lib\\site-packages\\matplotlib\\animation.pyc\u001b[0m in \u001b[0;36mto_html5_video\u001b[1;34m(self, embed_limit)\u001b[0m\n\u001b[0;32m   1407\u001b[0m                 \u001b[1;31m# We create a writer manually so that we can get the\u001b[0m\u001b[1;33m\u001b[0m\u001b[1;33m\u001b[0m\u001b[0m\n\u001b[0;32m   1408\u001b[0m                 \u001b[1;31m# appropriate size for the tag\u001b[0m\u001b[1;33m\u001b[0m\u001b[1;33m\u001b[0m\u001b[0m\n\u001b[1;32m-> 1409\u001b[1;33m                 \u001b[0mWriter\u001b[0m \u001b[1;33m=\u001b[0m \u001b[0mwriters\u001b[0m\u001b[1;33m[\u001b[0m\u001b[0mrcParams\u001b[0m\u001b[1;33m[\u001b[0m\u001b[1;34m'animation.writer'\u001b[0m\u001b[1;33m]\u001b[0m\u001b[1;33m]\u001b[0m\u001b[1;33m\u001b[0m\u001b[0m\n\u001b[0m\u001b[0;32m   1410\u001b[0m                 writer = Writer(codec='h264',\n\u001b[0;32m   1411\u001b[0m                                 \u001b[0mbitrate\u001b[0m\u001b[1;33m=\u001b[0m\u001b[0mrcParams\u001b[0m\u001b[1;33m[\u001b[0m\u001b[1;34m'animation.bitrate'\u001b[0m\u001b[1;33m]\u001b[0m\u001b[1;33m,\u001b[0m\u001b[1;33m\u001b[0m\u001b[0m\n",
      "\u001b[1;32mC:\\Users\\Daniel\\Anaconda2\\lib\\site-packages\\matplotlib\\animation.pyc\u001b[0m in \u001b[0;36m__getitem__\u001b[1;34m(self, name)\u001b[0m\n\u001b[0;32m    168\u001b[0m         \u001b[1;32mif\u001b[0m \u001b[1;32mnot\u001b[0m \u001b[0mself\u001b[0m\u001b[1;33m.\u001b[0m\u001b[0mavail\u001b[0m\u001b[1;33m:\u001b[0m\u001b[1;33m\u001b[0m\u001b[0m\n\u001b[0;32m    169\u001b[0m             \u001b[1;32mraise\u001b[0m \u001b[0mRuntimeError\u001b[0m\u001b[1;33m(\u001b[0m\u001b[1;34m\"No MovieWriters available!\"\u001b[0m\u001b[1;33m)\u001b[0m\u001b[1;33m\u001b[0m\u001b[0m\n\u001b[1;32m--> 170\u001b[1;33m         \u001b[1;32mreturn\u001b[0m \u001b[0mself\u001b[0m\u001b[1;33m.\u001b[0m\u001b[0mavail\u001b[0m\u001b[1;33m[\u001b[0m\u001b[0mname\u001b[0m\u001b[1;33m]\u001b[0m\u001b[1;33m\u001b[0m\u001b[0m\n\u001b[0m\u001b[0;32m    171\u001b[0m \u001b[1;33m\u001b[0m\u001b[0m\n\u001b[0;32m    172\u001b[0m \u001b[0mwriters\u001b[0m \u001b[1;33m=\u001b[0m \u001b[0mMovieWriterRegistry\u001b[0m\u001b[1;33m(\u001b[0m\u001b[1;33m)\u001b[0m\u001b[1;33m\u001b[0m\u001b[0m\n",
      "\u001b[1;31mKeyError\u001b[0m: u'ffmpeg'"
     ]
    }
   ],
   "source": [
    "gen_animation(1.5,15)"
   ]
  },
  {
   "cell_type": "code",
   "execution_count": null,
   "metadata": {
    "collapsed": true
   },
   "outputs": [],
   "source": []
  }
 ],
 "metadata": {
  "kernelspec": {
   "display_name": "Python 2",
   "language": "python",
   "name": "python2"
  },
  "language_info": {
   "codemirror_mode": {
    "name": "ipython",
    "version": 2
   },
   "file_extension": ".py",
   "mimetype": "text/x-python",
   "name": "python",
   "nbconvert_exporter": "python",
   "pygments_lexer": "ipython2",
   "version": "2.7.14"
  }
 },
 "nbformat": 4,
 "nbformat_minor": 2
}
